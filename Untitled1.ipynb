{
  "nbformat": 4,
  "nbformat_minor": 0,
  "metadata": {
    "colab": {
      "provenance": []
    },
    "kernelspec": {
      "name": "python3",
      "display_name": "Python 3"
    },
    "language_info": {
      "name": "python"
    }
  },
  "cells": [
    {
      "cell_type": "code",
      "execution_count": 2,
      "metadata": {
        "id": "DyIWc1ALvWVk"
      },
      "outputs": [],
      "source": [
        "import pandas as pd #подключение библиотек pandas\n",
        "import datetime #для работы с датой и временем"
      ]
    },
    {
      "cell_type": "code",
      "source": [
        "the_series=pd.Series([1,2,3,4,5]) # Series -- столбец\n",
        "print(the_series) # Вывод the_series"
      ],
      "metadata": {
        "id": "0Ve-VzbsybGX"
      },
      "execution_count": null,
      "outputs": []
    },
    {
      "cell_type": "code",
      "source": [
        "# Вывод отдельный элементов series\n",
        "print(the_series[1]) # вывод 2 т.к. нумерация с нуля\n",
        "print(the_series[1], the_series[4]) # 2 5\n",
        "the_series[[1, 4]] # Возвращаяет series (новый!)  с элементами 1, 4"
      ],
      "metadata": {
        "id": "Tht3YbMmy-vo"
      },
      "execution_count": null,
      "outputs": []
    },
    {
      "cell_type": "code",
      "source": [
        "# создаём siries, задавая его в явном виде\n",
        "the_second_siries=pd.Series([\"One\", \"Two\", \"Three\", \"Four\", \"Five\"],\n",
        "                            index=[\"I\", \"II\", \"III\", \"IV\", \"V\"])\n",
        "the_second_siries"
      ],
      "metadata": {
        "id": "e69B8B8k0I0v"
      },
      "execution_count": null,
      "outputs": []
    },
    {
      "cell_type": "code",
      "source": [
        "the_second_siries[[\"II\", \"IV\"]] # вывод значений с указанным индексом\n",
        "the_second_siries.index # Вывод индекса отдельно от обьекта"
      ],
      "metadata": {
        "id": "Mwq1YwqA1PT-"
      },
      "execution_count": null,
      "outputs": []
    },
    {
      "cell_type": "markdown",
      "source": [
        "Генератор DateTime"
      ],
      "metadata": {
        "id": "l_LeNCk216dV"
      }
    },
    {
      "cell_type": "code",
      "source": [
        "the_dates=pd.date_range(\"2005.06.19\", \"2022.09.26\")\n",
        "print(the_dates)"
      ],
      "metadata": {
        "colab": {
          "base_uri": "https://localhost:8080/"
        },
        "id": "L-Ra1sAb2IZY",
        "outputId": "a03265ca-7ad1-4d7e-be78-a42d12edec36"
      },
      "execution_count": 14,
      "outputs": [
        {
          "output_type": "stream",
          "name": "stdout",
          "text": [
            "DatetimeIndex(['2005-06-19', '2005-06-20', '2005-06-21', '2005-06-22',\n",
            "               '2005-06-23', '2005-06-24', '2005-06-25', '2005-06-26',\n",
            "               '2005-06-27', '2005-06-28',\n",
            "               ...\n",
            "               '2022-09-17', '2022-09-18', '2022-09-19', '2022-09-20',\n",
            "               '2022-09-21', '2022-09-22', '2022-09-23', '2022-09-24',\n",
            "               '2022-09-25', '2022-09-26'],\n",
            "              dtype='datetime64[ns]', length=6309, freq='D')\n"
          ]
        }
      ]
    }
  ]
}