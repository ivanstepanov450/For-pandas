{
  "nbformat": 4,
  "nbformat_minor": 0,
  "metadata": {
    "colab": {
      "provenance": []
    },
    "kernelspec": {
      "name": "python3",
      "display_name": "Python 3"
    },
    "language_info": {
      "name": "python"
    }
  },
  "cells": [
    {
      "cell_type": "code",
      "execution_count": 3,
      "metadata": {
        "id": "3P9l6fxh3DuS"
      },
      "outputs": [],
      "source": [
        "import pandas as pd\n",
        "import numpy as np\n",
        "import matplotlib.pyplot as plt"
      ]
    },
    {
      "cell_type": "code",
      "source": [
        "the_file=pd.read_csv('/content/sample_data/california_housing_test.csv')\n",
        "the_file"
      ],
      "metadata": {
        "id": "fkijik383bxm"
      },
      "execution_count": null,
      "outputs": []
    },
    {
      "cell_type": "code",
      "source": [
        "the_frame=pd.read_csv('/content/sample_data/california_housing_test.csv')\n",
        "the_frame"
      ],
      "metadata": {
        "id": "HuzPJRhZ4qeJ"
      },
      "execution_count": null,
      "outputs": []
    },
    {
      "cell_type": "markdown",
      "source": [
        "# Обычный отбор строк"
      ],
      "metadata": {
        "id": "FMp7cTF0927Z"
      }
    },
    {
      "cell_type": "code",
      "source": [
        "print(the_frame['total_rooms'].head()) #вывод первых 5 записей из указанного Series\n",
        "print(the_frame.head()) #вывод первых пяти записей из всего фрейма\n",
        "print(the_frame['total_rooms'].tail) #вывод последних 5 записей из Series\n",
        "print(the_frame[['total_rooms', 'total_bedrooms']].head())"
      ],
      "metadata": {
        "id": "YWDFzQE_47ah"
      },
      "execution_count": null,
      "outputs": []
    },
    {
      "cell_type": "code",
      "source": [
        "print(the_frame.loc[2525]) # вывести стору с индексом 2525\n",
        "print(the_frame.loc[[2997, 2999]]) # вывод строк с указанными индексами, внимание: [[]]\n",
        "\n",
        "print(the_frame.iloc[1]) # вывести строку по принудительного цифровому индексу\n",
        "print(the_frame.iloc[[1, 2999]])\n",
        "\n",
        "# loc -- по индексу даже если буквенный или строковой\n",
        "# iloc -- принудительно нумерует (от 0) и выводит по номеру строки"
      ],
      "metadata": {
        "id": "rUQ9EFEy6PXM"
      },
      "execution_count": null,
      "outputs": []
    },
    {
      "cell_type": "code",
      "source": [
        "print(the_frame.at[4, 'latitude']) # вывод содержимого на кординатах а, б\n",
        "                            # а -- номер строки, б -- название серии\n",
        "print(the_frame.iat[4, 1]) # принудительная нумерация строк и серий, вывод содержимого скалярной ячейки"
      ],
      "metadata": {
        "id": "3-T1jndu8bgT"
      },
      "execution_count": null,
      "outputs": []
    },
    {
      "cell_type": "markdown",
      "source": [
        "# Логический отбор строк"
      ],
      "metadata": {
        "id": "h5PDXF0J-RIh"
      }
    },
    {
      "cell_type": "code",
      "source": [
        "print(the_frame.total_rooms>2000) # проверка содержимого серии total.rooms на > 2000\n",
        "print(the_frame[the_frame.total_rooms>20000]) # вывод строк, где total.rooms > 20000\n",
        "\n",
        "print(the_frame[(the_frame.population > 1000) & (the_frame.population>3000)]) # вывод всех строк где "
      ],
      "metadata": {
        "id": "6sJana4c-aeS"
      },
      "execution_count": null,
      "outputs": []
    }
  ]
}