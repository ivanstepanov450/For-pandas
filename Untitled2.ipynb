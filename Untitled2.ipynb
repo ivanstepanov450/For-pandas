{
  "nbformat": 4,
  "nbformat_minor": 0,
  "metadata": {
    "colab": {
      "provenance": [],
      "collapsed_sections": []
    },
    "kernelspec": {
      "name": "python3",
      "display_name": "Python 3"
    },
    "language_info": {
      "name": "python"
    }
  },
  "cells": [
    {
      "cell_type": "code",
      "execution_count": 11,
      "metadata": {
        "id": "G0uQKJL9zmKU"
      },
      "outputs": [],
      "source": [
        "import pandas as pd\n",
        "import datetime\n",
        "import matplotlib\n",
        "import numpy as np"
      ]
    },
    {
      "cell_type": "code",
      "source": [
        "data_frame_1 = pd.read_csv(\"/content/sample_data/california_housing_test.csv\") #\n",
        "print(data_frame_1)"
      ],
      "metadata": {
        "id": "lCFe8kVAz4f-"
      },
      "execution_count": null,
      "outputs": []
    },
    {
      "cell_type": "code",
      "source": [
        "# вывод отдельного столбца(series)\n",
        "print(data_frame_1.population)\n",
        "\n",
        "#вывод отдельного значения в отдельном series\n",
        "print(data_frame_1.total_rooms[3])\n"
      ],
      "metadata": {
        "id": "jwQVqi2M0_x-"
      },
      "execution_count": null,
      "outputs": []
    },
    {
      "cell_type": "code",
      "source": [
        "#определение типа данный в ячейке\n",
        "print(type(data_frame_1.total_rooms[3]))"
      ],
      "metadata": {
        "id": "EwsZRDR_11iQ"
      },
      "execution_count": null,
      "outputs": []
    },
    {
      "cell_type": "code",
      "source": [
        "#срез значений по строкам\n",
        "print(data_frame_1[10:25:2])\n",
        "#срез значений по строкам в series\n",
        "print(data_frame_1.total_rooms[10:25:2])"
      ],
      "metadata": {
        "id": "Qn2K1Jmn2CTe"
      },
      "execution_count": null,
      "outputs": []
    },
    {
      "cell_type": "code",
      "source": [
        "data_frame_1.population.plot()"
      ],
      "metadata": {
        "id": "sRRR-2K93HPD"
      },
      "execution_count": null,
      "outputs": []
    },
    {
      "cell_type": "markdown",
      "source": [
        "# Cоздание объектов с помощью NumPy"
      ],
      "metadata": {
        "id": "MIzt9S0g3YdR"
      }
    },
    {
      "cell_type": "code",
      "source": [
        "from pandas.core import series\n",
        "series_int = pd.Series(np.arange(5, 27)) # создать последовательность целых чисел\n",
        "print(series_int)\n",
        "\n",
        "series_linespace=pd.Series(np.linspace(12, 26, 5)) # создать последовательность из 5 чисел между 12 и 26\n",
        "print(series_linespace)"
      ],
      "metadata": {
        "id": "FBusMWlN3XA3"
      },
      "execution_count": null,
      "outputs": []
    },
    {
      "cell_type": "code",
      "source": [
        "np.random.seed(12345) # генератор случайных чисел\n",
        "\n",
        "pd.Series(np.random.normal(size=10))\n"
      ],
      "metadata": {
        "id": "U5IBit1K52-A"
      },
      "execution_count": null,
      "outputs": []
    }
  ]
}